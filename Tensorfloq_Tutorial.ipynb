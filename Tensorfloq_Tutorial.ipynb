{
  "nbformat": 4,
  "nbformat_minor": 0,
  "metadata": {
    "colab": {
      "name": "Tensorfloq_Tutorial.ipynb",
      "provenance": [],
      "authorship_tag": "ABX9TyOrf0I3Pj5+I5W+0ohBSAS0",
      "include_colab_link": true
    },
    "kernelspec": {
      "name": "python3",
      "display_name": "Python 3"
    },
    "language_info": {
      "name": "python"
    }
  },
  "cells": [
    {
      "cell_type": "markdown",
      "metadata": {
        "id": "view-in-github",
        "colab_type": "text"
      },
      "source": [
        "<a href=\"https://colab.research.google.com/github/btcain44/Applied_Deep_Learning/blob/main/Tensorfloq_Tutorial.ipynb\" target=\"_parent\"><img src=\"https://colab.research.google.com/assets/colab-badge.svg\" alt=\"Open In Colab\"/></a>"
      ]
    },
    {
      "cell_type": "markdown",
      "metadata": {
        "id": "0u_TjvFbaGQr"
      },
      "source": [
        ""
      ]
    },
    {
      "cell_type": "markdown",
      "metadata": {
        "id": "ku5U77S2aJY0"
      },
      "source": [
        "**Tensorflow Tutorials:**\n",
        "This notebook is purposed at completing Tensorflow tutorials so that as the class progresses, I am able to turn work done in the EDA phase and implement it into actual deep learning models. "
      ]
    }
  ]
}