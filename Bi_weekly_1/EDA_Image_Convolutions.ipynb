{
 "cells": [
  {
   "cell_type": "markdown",
   "id": "5d92e071",
   "metadata": {},
   "source": [
    "## Image Convolution Exploration\n",
    "\n",
    "The purpose of this notebook is to explore how convolution filters work as well as pooling operations. This will help us better understand the feature mappings that are being created behind the scenes in a convolutional neural network. "
   ]
  },
  {
   "cell_type": "code",
   "execution_count": null,
   "id": "afd65397",
   "metadata": {},
   "outputs": [],
   "source": []
  }
 ],
 "metadata": {
  "kernelspec": {
   "display_name": "Python 3",
   "language": "python",
   "name": "python3"
  },
  "language_info": {
   "codemirror_mode": {
    "name": "ipython",
    "version": 3
   },
   "file_extension": ".py",
   "mimetype": "text/x-python",
   "name": "python",
   "nbconvert_exporter": "python",
   "pygments_lexer": "ipython3",
   "version": "3.7.11"
  }
 },
 "nbformat": 4,
 "nbformat_minor": 5
}
