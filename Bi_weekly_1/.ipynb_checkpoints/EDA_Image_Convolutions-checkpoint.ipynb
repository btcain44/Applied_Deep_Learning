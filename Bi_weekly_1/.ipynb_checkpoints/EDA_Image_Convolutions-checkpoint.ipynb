{
 "cells": [
  {
   "cell_type": "markdown",
   "id": "cc68ab0c",
   "metadata": {},
   "source": [
    "## Image Convolution Exploration\n",
    "\n",
    "The purpose of this notebook is to explore how convolution filters work as well as pooling operations. This will help us better understand the feature mappings that are being created behind the scenes in a convolutional neural network. "
   ]
  },
  {
   "cell_type": "code",
   "execution_count": null,
   "id": "e545307b",
   "metadata": {},
   "outputs": [],
   "source": []
  }
 ],
 "metadata": {
  "kernelspec": {
   "display_name": "Python 3",
   "language": "python",
   "name": "python3"
  },
  "language_info": {
   "codemirror_mode": {
    "name": "ipython",
    "version": 3
   },
   "file_extension": ".py",
   "mimetype": "text/x-python",
   "name": "python",
   "nbconvert_exporter": "python",
   "pygments_lexer": "ipython3",
   "version": "3.7.11"
  }
 },
 "nbformat": 4,
 "nbformat_minor": 5
}
